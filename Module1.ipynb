{
 "cells": [
  {
   "cell_type": "code",
   "execution_count": 1,
   "id": "e4ce3bfc-1553-4e84-ab70-ed1cfa403fb9",
   "metadata": {},
   "outputs": [
    {
     "name": "stdout",
     "output_type": "stream",
     "text": [
      "3600\n",
      "86400\n",
      "24.0\n",
      "24\n"
     ]
    }
   ],
   "source": [
    "sec =1\n",
    "sec_per_minute = sec*60\n",
    "sec_per_hour = sec_per_minute * 60\n",
    "\n",
    "print(sec_per_hour)\n",
    "\n",
    "sec_per_day = sec_per_hour * 24\n",
    "\n",
    "print(sec_per_day)\n",
    "\n",
    "print(sec_per_day/sec_per_hour)\n",
    "\n",
    "print(sec_per_day//sec_per_hour)\n"
   ]
  }
 ],
 "metadata": {
  "kernelspec": {
   "display_name": "Python 3 (ipykernel)",
   "language": "python",
   "name": "python3"
  },
  "language_info": {
   "codemirror_mode": {
    "name": "ipython",
    "version": 3
   },
   "file_extension": ".py",
   "mimetype": "text/x-python",
   "name": "python",
   "nbconvert_exporter": "python",
   "pygments_lexer": "ipython3",
   "version": "3.12.4"
  }
 },
 "nbformat": 4,
 "nbformat_minor": 5
}
